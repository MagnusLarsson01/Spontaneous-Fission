{
 "cells": [
  {
   "cell_type": "markdown",
   "id": "794738c0-2dca-486d-96d0-caa4149d603f",
   "metadata": {},
   "source": [
    "# Tutorial for SpontaneousFission package\n"
   ]
  },
  {
   "cell_type": "markdown",
   "id": "59f1af25-09a2-4e6d-bb71-d95c28eff169",
   "metadata": {},
   "source": [
    "## Import of modules"
   ]
  },
  {
   "cell_type": "code",
   "execution_count": 1,
   "id": "9c8ac533-f44e-4406-bf92-a1b09de42fe3",
   "metadata": {},
   "outputs": [],
   "source": [
    "from SpontaneousFission import material, nuclide, sfr"
   ]
  },
  {
   "cell_type": "markdown",
   "id": "3a9b259f-2996-41db-9e83-54e980c46727",
   "metadata": {},
   "source": [
    "## Information of the modules\n",
    "### Material"
   ]
  },
  {
   "cell_type": "code",
   "execution_count": 6,
   "id": "7dc8632a-3836-487e-9115-be559bc25b65",
   "metadata": {
    "scrolled": true
   },
   "outputs": [
    {
     "name": "stdout",
     "output_type": "stream",
     "text": [
      "Help on module SpontaneousFission.material in SpontaneousFission:\n",
      "\n",
      "NAME\n",
      "    SpontaneousFission.material - module for spontaneous fission material\n",
      "\n",
      "DESCRIPTION\n",
      "    Magnus Larsson 2024\n",
      "\n",
      "CLASSES\n",
      "    builtins.object\n",
      "        Material\n",
      "    \n",
      "    class Material(builtins.object)\n",
      "     |  Material(amount_type='fraction')\n",
      "     |  \n",
      "     |  A class used to represent a material.\n",
      "     |  List of default nuclides: Th232, U232, U233, U234, U235, U236, U238, Np237, \n",
      "     |  Pu236, Pu238, Pu239, Pu240, Pu241, Pu242, Am241, Cm242, Cm244, Cm246, Cm248, \n",
      "     |  Bk249, Cf246, Cf250, Cf252, Cf254, Fm257, No252.\n",
      "     |  \n",
      "     |  Parameters\n",
      "     |  ----------\n",
      "     |  amount_type : str\n",
      "     |      Type of amount to be used for the material. Default is 'fraction' for number fractions with 'barn-1cm-1' as an alternative.  \n",
      "     |  \n",
      "     |  Attributes\n",
      "     |  ----------\n",
      "     |  amount_type : str\n",
      "     |      Type of amount to be used for the material. Default is 'fraction' for number fractions with 'barn-1cm-1' as an alternative.  \n",
      "     |  density : float \n",
      "     |      Density of the material.\n",
      "     |  nuclide_data : dict\n",
      "     |      The nuclide data loaded from resource file. Contains data for the default nuclides.\n",
      "     |  material_data : dict\n",
      "     |      The nuclides added to the material and the amount.\n",
      "     |  volume : float\n",
      "     |      The volume of the material.\n",
      "     |  total_fraction_times_A : float \n",
      "     |      Totl fractions multiplies by mass number. Used for normalization of the fractions.\n",
      "     |  \n",
      "     |  Methods defined here:\n",
      "     |  \n",
      "     |  __init__(self, amount_type='fraction')\n",
      "     |      Initialize self.  See help(type(self)) for accurate signature.\n",
      "     |  \n",
      "     |  __repr__(self)\n",
      "     |      Return repr(self).\n",
      "     |  \n",
      "     |  add_nuclide(self, name, amount)\n",
      "     |  \n",
      "     |  calculate_fission_rate(self)\n",
      "     |  \n",
      "     |  calculate_nuclide_concentrations(self)\n",
      "     |  \n",
      "     |  getSFR(self)\n",
      "     |  \n",
      "     |  load_nuclide_data(self)\n",
      "     |  \n",
      "     |  setDensity(self)\n",
      "     |  \n",
      "     |  set_density(self, density_unit, density)\n",
      "     |  \n",
      "     |  set_volume(self, volume_unit, volume)\n",
      "     |  \n",
      "     |  ----------------------------------------------------------------------\n",
      "     |  Data descriptors defined here:\n",
      "     |  \n",
      "     |  __dict__\n",
      "     |      dictionary for instance variables\n",
      "     |  \n",
      "     |  __weakref__\n",
      "     |      list of weak references to the object\n",
      "\n",
      "DATA\n",
      "    __warningregistry__ = {'version': 15}\n",
      "\n",
      "FILE\n",
      "    c:\\users\\magnuslarsson\\anaconda3\\envs\\analyticsbase\\lib\\site-packages\\spontaneousfission\\material.py\n",
      "\n",
      "\n"
     ]
    }
   ],
   "source": [
    "help(material)"
   ]
  },
  {
   "cell_type": "markdown",
   "id": "74ed22f4-c9b6-4123-9d99-6b52be35722e",
   "metadata": {},
   "source": [
    "### Nuclide"
   ]
  },
  {
   "cell_type": "code",
   "execution_count": 8,
   "id": "f810988b-4027-4f13-b69a-ec9bd1fddfe2",
   "metadata": {
    "scrolled": true
   },
   "outputs": [
    {
     "name": "stdout",
     "output_type": "stream",
     "text": [
      "Help on module SpontaneousFission.nuclide in SpontaneousFission:\n",
      "\n",
      "NAME\n",
      "    SpontaneousFission.nuclide\n",
      "\n",
      "CLASSES\n",
      "    builtins.object\n",
      "        Nuclide\n",
      "    \n",
      "    class Nuclide(builtins.object)\n",
      "     |  Nuclide(element, name, Z, A, molar_mass, sf_half_life, half_life_unit='y', density=1.0)\n",
      "     |  \n",
      "     |  A class used to represent a given nucleotide.\n",
      "     |  The class also contain functions for calculation of lambda and decay rate.\n",
      "     |  \n",
      "     |  Parameters\n",
      "     |  ----------\n",
      "     |  element : str\n",
      "     |      Element name e.g. U\n",
      "     |  name : str\n",
      "     |      Name of nuclide e.g. U238\n",
      "     |  Z : int\n",
      "     |      Atomic number e.g. 92 for Uranium\n",
      "     |  A : int\n",
      "     |      Mass number e.g 238 for U238\n",
      "     |  molar_mass : float\n",
      "     |      The molar mass fo the isotope g/mol\n",
      "     |  sf_half_life : float\n",
      "     |      Half life based on spontaneous fission\n",
      "     |  half_life_unit : float\n",
      "     |      Unit for the half life y (year, default), d (days)\n",
      "     |  density : float\n",
      "     |      Density of the pure isotope g/cm-3\n",
      "     |      \n",
      "     |  Attributes\n",
      "     |  ----------\n",
      "     |  element : str\n",
      "     |      Element name e.g. U\n",
      "     |  name : str\n",
      "     |      Name of nuclide e.g. U238\n",
      "     |  Z : int\n",
      "     |      Atomic number e.g. 92 for Uranium\n",
      "     |  A : int\n",
      "     |      Mass number e.g 238 for U238\n",
      "     |  molar_mass : float\n",
      "     |      The molar mass fo the isotope g/mol\n",
      "     |  sf_half_life : float\n",
      "     |      Half life based on spontaneous fission\n",
      "     |  half_life_unit : float\n",
      "     |      Unit for the half life y (year, default), d (days), s (seconds)\n",
      "     |  density : float\n",
      "     |      Density of the pure isotope g/cm-3\n",
      "     |  \n",
      "     |  Methods defined here:\n",
      "     |  \n",
      "     |  __init__(self, element, name, Z, A, molar_mass, sf_half_life, half_life_unit='y', density=1.0)\n",
      "     |      Initialize self.  See help(type(self)) for accurate signature.\n",
      "     |  \n",
      "     |  get_decay_rate(self, mass, unit='g')\n",
      "     |      The function calculates the decay rate for the nuclide.\n",
      "     |      \n",
      "     |      Parameters\n",
      "     |      ----------\n",
      "     |      mass : float\n",
      "     |          the mass of the nuclide\n",
      "     |      unit : str\n",
      "     |          the unit for the mass with g as default. Alternatives are mg, kg.\n",
      "     |      \n",
      "     |      Returns\n",
      "     |      -------\n",
      "     |      float\n",
      "     |          the decay rate for the nuclide\n",
      "     |  \n",
      "     |  get_lambda(self)\n",
      "     |      The function calculates the decay constant lambda.\n",
      "     |      \n",
      "     |      Returns\n",
      "     |      -------\n",
      "     |      float\n",
      "     |          the decay constant lambda\n",
      "     |  \n",
      "     |  get_nuclide_notation(self)\n",
      "     |  \n",
      "     |  ----------------------------------------------------------------------\n",
      "     |  Data descriptors defined here:\n",
      "     |  \n",
      "     |  __dict__\n",
      "     |      dictionary for instance variables\n",
      "     |  \n",
      "     |  __weakref__\n",
      "     |      list of weak references to the object\n",
      "\n",
      "FILE\n",
      "    c:\\users\\magnuslarsson\\anaconda3\\envs\\analyticsbase\\lib\\site-packages\\spontaneousfission\\nuclide.py\n",
      "\n",
      "\n"
     ]
    }
   ],
   "source": [
    "help(nuclide)"
   ]
  },
  {
   "cell_type": "markdown",
   "id": "8b56ad0b-8ad8-4d7b-b34b-2c710c850740",
   "metadata": {},
   "source": [
    "### SpontaneousFissionResult "
   ]
  },
  {
   "cell_type": "code",
   "execution_count": 10,
   "id": "34df3ed0-a048-438b-8750-f682194891d5",
   "metadata": {
    "scrolled": true
   },
   "outputs": [
    {
     "name": "stdout",
     "output_type": "stream",
     "text": [
      "Help on module SpontaneousFission.sfr in SpontaneousFission:\n",
      "\n",
      "NAME\n",
      "    SpontaneousFission.sfr - module for spontaneous fission result\n",
      "\n",
      "DESCRIPTION\n",
      "    Magnus Larsson 2024\n",
      "\n",
      "CLASSES\n",
      "    builtins.object\n",
      "        SpontaneousFissionResult\n",
      "    \n",
      "    class SpontaneousFissionResult(builtins.object)\n",
      "     |  SpontaneousFissionResult(concentrations, density, volume, spontaneous_fission_rate, unit, error=False, error_message='')\n",
      "     |  \n",
      "     |  A class used to represent a the result from spontaneous fission analysis of a material.\n",
      "     |  An instance of the class can be printed to show a summary of the material including density, volume (if given), \n",
      "     |  atomic concentrations of nuclides and the total spontaneous fission rate.\n",
      "     |  \n",
      "     |  Parameters\n",
      "     |  ----------\n",
      "     |  concentrations : dict \n",
      "     |      Concentrations of the nuclides in the material\n",
      "     |  density : float\n",
      "     |      Density of the material\n",
      "     |  volume : float\n",
      "     |      Volume of the material\n",
      "     |  spontaneous_fission_rate : float\n",
      "     |      The total spontaneous fission rate of the material \n",
      "     |  unit : str\n",
      "     |      The unit of the spontaneous fission rate (s-1, g-1s-1)\n",
      "     |  error : boolean\n",
      "     |      Indication if the spontaneous fission rate could not be calculated\n",
      "     |  error_message : str\n",
      "     |      The error message\n",
      "     |  \n",
      "     |  Attributes\n",
      "     |  ----------\n",
      "     |  concentrations : dict \n",
      "     |      Concentrations of the nuclides in the material\n",
      "     |  density : float\n",
      "     |      Density of the material\n",
      "     |  volume : float\n",
      "     |      Volume of the material\n",
      "     |  spontaneous_fission_rate : float\n",
      "     |      The total spontaneous fission rate of the material \n",
      "     |  unit : str\n",
      "     |      The unit of the spontaneous fission rate (s-1, g-1s-1)\n",
      "     |  error : boolean\n",
      "     |      Indication if the spontaneous fission rate could not be calculated\n",
      "     |  error_message : str\n",
      "     |      The error message\n",
      "     |  \n",
      "     |  Methods defined here:\n",
      "     |  \n",
      "     |  __init__(self, concentrations, density, volume, spontaneous_fission_rate, unit, error=False, error_message='')\n",
      "     |      Initialize self.  See help(type(self)) for accurate signature.\n",
      "     |  \n",
      "     |  __repr__(self)\n",
      "     |      Return repr(self).\n",
      "     |  \n",
      "     |  ----------------------------------------------------------------------\n",
      "     |  Data descriptors defined here:\n",
      "     |  \n",
      "     |  __dict__\n",
      "     |      dictionary for instance variables\n",
      "     |  \n",
      "     |  __weakref__\n",
      "     |      list of weak references to the object\n",
      "\n",
      "FILE\n",
      "    c:\\users\\magnuslarsson\\anaconda3\\envs\\analyticsbase\\lib\\site-packages\\spontaneousfission\\sfr.py\n",
      "\n",
      "\n"
     ]
    }
   ],
   "source": [
    "help(sfr)"
   ]
  },
  {
   "cell_type": "markdown",
   "id": "3596428a-2f5a-4660-91da-2769afc57f20",
   "metadata": {},
   "source": [
    "## Simple material"
   ]
  },
  {
   "cell_type": "code",
   "execution_count": 4,
   "id": "0190f067-d08e-4b63-b26c-47db9925f895",
   "metadata": {},
   "outputs": [
    {
     "name": "stdout",
     "output_type": "stream",
     "text": [
      "density=10.5, volume=None\n",
      "List of nuclides, and atomic densities (in barn-1cm-1cm-3)\n",
      "92235\t0.0009369966388098918\n",
      "92238\t0.02248731112595545\n",
      "8016\t0.0468615326697136\n",
      "\n",
      "Sponteneous fission rate: 0.00574074653944017 fission/g/second\n"
     ]
    }
   ],
   "source": [
    "uo2 = material.Material()\n",
    "uo2.add_nuclide('U235', 0.04)\n",
    "uo2.add_nuclide('U238', 0.96)\n",
    "uo2.add_nuclide('O16', 2.0)\n",
    "uo2.set_density('g/cm3', 10.5)\n",
    "#uo2.set_volume('cm3', 0.0952)\n",
    "\n",
    "result = uo2.getSFR() \n",
    "print(result)"
   ]
  },
  {
   "cell_type": "markdown",
   "id": "a884b1ea-ce4d-4725-9da1-62bace35f879",
   "metadata": {},
   "source": [
    "## Composition of complex material\n",
    "An example of a compound with 18 different nuclides (17 spontaneous fussion active) entered using the barn-1cm-1 units and the ZA naming convention.  "
   ]
  },
  {
   "cell_type": "code",
   "execution_count": 4,
   "id": "0d1a8551-1f3d-45a3-a6f0-36e7a21d7348",
   "metadata": {},
   "outputs": [
    {
     "name": "stdout",
     "output_type": "stream",
     "text": [
      "density=10.500406908151135, volume=1.0\n",
      "List of nuclides, and atomic densities (in barn^-1cm^-1)\n",
      "8016\t0.0476318709979466\n",
      "92232\t7.06104652673138e-15\n",
      "92233\t2.35088603140821e-11\n",
      "92234\t3.04159895434244e-08\n",
      "92235\t0.000449538785711297\n",
      "92236\t6.89750759080931e-05\n",
      "92238\t0.0226704289203308\n",
      "93237\t4.5526687777377e-06\n",
      "94236\t1.89748994915674e-14\n",
      "94238\t7.46428645473517e-07\n",
      "94239\t0.000124397804220399\n",
      "94240\t2.91722130669398e-05\n",
      "94241\t1.62079695976725e-05\n",
      "94242\t2.48409460618007e-06\n",
      "95241\t3.48993557415652e-07\n",
      "96242\t6.91986026960431e-08\n",
      "96244\t3.3418284068771e-08\n",
      "96246\t3.15376964764952e-11\n",
      "\n",
      "Sponteneous fission rate: 292.99669654825067 fission/second\n"
     ]
    }
   ],
   "source": [
    "uo2 = material.Material(amount_type='barn-1cm-1')\n",
    "uo2.add_nuclide('8016', 4.76318709979466E-02)\n",
    "uo2.add_nuclide('92232', 7.06104652673138E-15)\n",
    "uo2.add_nuclide('92233', 2.35088603140821E-11)\n",
    "uo2.add_nuclide('92234', 3.04159895434244E-08)\n",
    "uo2.add_nuclide('92235', 4.49538785711297E-04)\n",
    "uo2.add_nuclide('92236', 6.89750759080931E-05)\n",
    "uo2.add_nuclide('92238', 2.26704289203308E-02)\n",
    "uo2.add_nuclide('93237', 4.55266877773770E-06)\n",
    "uo2.add_nuclide('94236', 1.89748994915674E-14)\n",
    "uo2.add_nuclide('94238', 7.46428645473517E-07)\n",
    "uo2.add_nuclide('94239', 1.24397804220399E-04)\n",
    "uo2.add_nuclide('94240', 2.91722130669398E-05)\n",
    "uo2.add_nuclide('94241', 1.62079695976725E-05)\n",
    "uo2.add_nuclide('94242', 2.48409460618007E-06)\n",
    "uo2.add_nuclide('95241', 3.48993557415652E-07)\n",
    "uo2.add_nuclide('96242', 6.91986026960431E-08)\n",
    "uo2.add_nuclide('96244', 3.34182840687710E-08)\n",
    "uo2.add_nuclide('96246', 3.15376964764952E-11)\n",
    "uo2.set_volume('cm3', 1.0)\n",
    "\n",
    "sfr = uo2.getSFR()\n",
    "print(sfr)"
   ]
  },
  {
   "cell_type": "code",
   "execution_count": null,
   "id": "8b36b0c8-b6d0-4d20-929a-cfca6e32b121",
   "metadata": {},
   "outputs": [],
   "source": []
  }
 ],
 "metadata": {
  "kernelspec": {
   "display_name": "Python 3 (ipykernel)",
   "language": "python",
   "name": "python3"
  },
  "language_info": {
   "codemirror_mode": {
    "name": "ipython",
    "version": 3
   },
   "file_extension": ".py",
   "mimetype": "text/x-python",
   "name": "python",
   "nbconvert_exporter": "python",
   "pygments_lexer": "ipython3",
   "version": "3.11.9"
  }
 },
 "nbformat": 4,
 "nbformat_minor": 5
}
